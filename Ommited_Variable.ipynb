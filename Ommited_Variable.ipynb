{
 "cells": [
  {
   "cell_type": "markdown",
   "metadata": {},
   "source": [
    "<center>\n",
    "\n",
    "# Matthias Müllner\n",
    "\n",
    "## University of Graz\n",
    "## Center for Accounting Research\n",
    "</center>"
   ]
  },
  {
   "cell_type": "markdown",
   "metadata": {},
   "source": [
    "# Ommited Variable Bias\n",
    "\n",
    "<br>\n",
    "\n",
    "Here i create two orthogonal vectors. Those two vectors are independent variables of a multiple linear regression. Since they are orthogonal their correlation is zero. I aim to show that omission of an independet variable does not lead to any bias if those are uncorrelated.\n",
    "\n",
    "In a second step I will do the same stuff for correlation between the dependent and the omitted independent variable. Still coefficients should be unbiased if these verctors are orthogonal, however my R² and my standard error should increase."
   ]
  },
  {
   "cell_type": "code",
   "execution_count": 39,
   "metadata": {},
   "outputs": [
    {
     "name": "stdout",
     "output_type": "stream",
     "text": [
      "0.0\n"
     ]
    }
   ],
   "source": [
    "\"\"\"\n",
    "Checking for omitted variable bias\n",
    "\"\"\"\n",
    "\n",
    "import pandas as pd\n",
    "import matplotlib.pyplot as plt\n",
    "import numpy as np\n",
    "from sklearn.linear_model import LinearRegression\n",
    "import statsmodels.api as sm\n",
    "\n",
    "list_x1 = [] # first independent variable\n",
    "list_k = [1] # dummy vector to create orthogonal vector\n",
    "\n",
    "for i in range(0, 2):\n",
    "    list_k.append(0)\n",
    "\n",
    "\n",
    "for i in range(0, 3):\n",
    "    x1 = i + np.random.normal(0, 1)\n",
    "    list_x1.append(x1)\n",
    "\n",
    "\"\"\"\n",
    "Cross product of my dummy vector and vector of independent variables creates an orthogonal vector\n",
    "to my fist independent vatiable.\n",
    "\"\"\"\n",
    "\n",
    "x2 = np.cross(list_k, list_x1)\n",
    "list_x2 = x2\n",
    "#print(list_x1)\n",
    "#print(list_x2)\n",
    "\n",
    "\n",
    "inner_product = np.dot(list_x1,list_x2) #check whether inner product is zero --> Orthogonality\n",
    "print(inner_product)\n",
    "\n",
    "list_y = np.random.randn(3) # create my dependent variable which is just some random vector.\n",
    "\n",
    "\n"
   ]
  }
 ],
 "metadata": {
  "kernelspec": {
   "display_name": "Python 3",
   "language": "python",
   "name": "python3"
  },
  "language_info": {
   "codemirror_mode": {
    "name": "ipython",
    "version": 3
   },
   "file_extension": ".py",
   "mimetype": "text/x-python",
   "name": "python",
   "nbconvert_exporter": "python",
   "pygments_lexer": "ipython3",
   "version": "3.7.3"
  }
 },
 "nbformat": 4,
 "nbformat_minor": 2
}
